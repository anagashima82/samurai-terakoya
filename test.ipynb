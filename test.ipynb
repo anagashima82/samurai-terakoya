{
  "nbformat": 4,
  "nbformat_minor": 0,
  "metadata": {
    "colab": {
      "provenance": []
    },
    "kernelspec": {
      "name": "python3",
      "display_name": "Python 3"
    },
    "language_info": {
      "name": "python"
    }
  },
  "cells": [
    {
      "cell_type": "code",
      "source": [
        "pip install openpyxl"
      ],
      "metadata": {
        "colab": {
          "base_uri": "https://localhost:8080/"
        },
        "id": "9cWTh3WZX8WD",
        "outputId": "a4c26101-327e-4f27-f4ae-3b23d7d84b6f"
      },
      "execution_count": null,
      "outputs": [
        {
          "output_type": "stream",
          "name": "stdout",
          "text": [
            "Requirement already satisfied: openpyxl in /usr/local/lib/python3.10/dist-packages (3.1.2)\n",
            "Requirement already satisfied: et-xmlfile in /usr/local/lib/python3.10/dist-packages (from openpyxl) (1.1.0)\n"
          ]
        }
      ]
    },
    {
      "cell_type": "code",
      "source": [
        "import openpyxl\n",
        "\n",
        "workbook = openpyxl.Workbook()\n",
        "workbook.save('sample1.xlsx')"
      ],
      "metadata": {
        "id": "o-R3GEe0Yfrv"
      },
      "execution_count": null,
      "outputs": []
    },
    {
      "cell_type": "code",
      "source": [
        "# アクティブなシートを取得する（後の節で学習します）\n",
        "ws = workbook.active\n",
        "\n",
        "# セルに値を書き込む（後の節で学習します）\n",
        "ws['A1'] = 42\n",
        "\n",
        "# Excelファイルを上書き保存する\n",
        "workbook.save('sample1.xlsx')\n",
        "\n",
        "# セルに値を書き込む\n",
        "ws['A1'] = 10\n",
        "\n",
        "# Excelファイルを別名保存する\n",
        "workbook.save('sample2.xlsx')"
      ],
      "metadata": {
        "id": "5RW4rqeVZk9g"
      },
      "execution_count": null,
      "outputs": []
    }
  ]
}